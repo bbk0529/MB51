{
 "cells": [
  {
   "cell_type": "code",
   "execution_count": 19,
   "metadata": {},
   "outputs": [],
   "source": [
    "import pandas as pd\n",
    "import numpy as np\n",
    "import datetime\n",
    "import matplotlib as plt"
   ]
  },
  {
   "cell_type": "code",
   "execution_count": 20,
   "metadata": {},
   "outputs": [],
   "source": [
    "filename=\"180809_EGC-HD-160\"\n",
    "#filename=\"Clearing_DGSL_MB51_180615\""
   ]
  },
  {
   "cell_type": "code",
   "execution_count": 36,
   "metadata": {},
   "outputs": [],
   "source": [
    "def MB51Praser(filename, category) : \n",
    "    parts={}\n",
    "    table={}    \n",
    "    partnum=None\n",
    "    with open(filename,\"r\", encoding=\"ISO-8859-1\") as file:\n",
    "        for i in range(3) : #skip the header\n",
    "                line=file.readline()\n",
    "                #print(line)    \n",
    "        #print(\"===============skipped header===================\")\n",
    "        \n",
    "        for line in file:                                                 \n",
    "            \n",
    "            if(line.count(\"|\")==2) : # start part            \n",
    "                splitLine = line.replace(\"|\",\"\").split()\n",
    "                #print(splitLine[0])\n",
    "                if (len(splitLine[0])>5) : #partnum line\n",
    "                    if partnum!=None : \n",
    "                        parts[partnum] = table\n",
    "                        partnum=splitLine[0]\n",
    "                        table=parts.get(partnum, {})                                               \n",
    "                    partnum=splitLine[0]                                \n",
    "                    \n",
    "\n",
    "                else : #if document line\n",
    "                    mvt=line[6:9]                   \n",
    "                    month=line[line.find(\"/\")-4:line.find(\"/\")+3]\n",
    "                    try : \n",
    "                        qty=splitLine[splitLine.index('PC')-1]                    \n",
    "                    except :\n",
    "                        continue\n",
    "                    \n",
    "                    \n",
    "                    if(qty.find(\"-\")>0) : \n",
    "                        qty=-int(float(qty.replace(\"-\",\"\")))\n",
    "                    else : \n",
    "                        qty=int(float(qty))              \n",
    "                    \n",
    "                    #print(partnum, mvt,qty)\n",
    "                    \n",
    "                    if(category==\"qty\") : \n",
    "                        table[mvt] = table.get(mvt,0) + qty                                                \n",
    "                        #print(partnum, mvt, table[mvt])     \n",
    "                    if(category==\"count\") : \n",
    "                        table[mvt] = table.get(mvt,0) + 1                                               \n",
    "                        #print(partnum, mvt, table[mvt])     \n",
    "                    \n",
    "                    if(category==\"consumption\") and (mvt=='601' or mvt=='261') : \n",
    "                        table[month] = table.get(month,0) + qty                                               \n",
    "                    \n",
    "                    \n",
    "                    if(category==\"krconsumption\") and (mvt=='601' or mvt=='261') :                         \n",
    "                        client=line[95:103].strip()\n",
    "                        if client=='642504' :                             \n",
    "                            table[month] = table.get(month,0) + qty                                               \n",
    "                    \n",
    "                    if(category==\"incoming\") and mvt=='101' : \n",
    "                        table[month] = table.get(month,0) + qty                                               \n",
    "                        #print(partnum, month, table[month])     \n",
    "                    \n",
    "                    if(category==\"customer\") and (mvt=='601' or mvt=='261') :                         \n",
    "                        client=line[95:103].strip()                                      \n",
    "                        table[client] = table.get(client,0) - qty                                        \n",
    "                    \n",
    "    if partnum!=None and len(table)!=0: \n",
    "        parts[partnum] = table                \n",
    "    return parts"
   ]
  },
  {
   "cell_type": "code",
   "execution_count": 37,
   "metadata": {
    "scrolled": true
   },
   "outputs": [],
   "source": [
    "parts1=MB51Praser(filename,'count')\n",
    "parts2=MB51Praser(filename,'qty')\n",
    "parts3=MB51Praser(filename,'consumption')\n",
    "parts4=MB51Praser(filename,'incoming')\n",
    "parts5=MB51Praser(filename,'krconsumption')\n",
    "parts6=MB51Praser(filename,'customer')"
   ]
  },
  {
   "cell_type": "code",
   "execution_count": 38,
   "metadata": {},
   "outputs": [],
   "source": [
    "df1=pd.DataFrame(parts1).transpose()\n",
    "df2=pd.DataFrame(parts2).transpose()\n",
    "df3=pd.DataFrame(parts3).transpose()\n",
    "df4=pd.DataFrame(parts4).transpose()\n",
    "df5=pd.DataFrame(parts5).transpose()\n",
    "df6=pd.DataFrame(parts6)\n",
    "\n"
   ]
  },
  {
   "cell_type": "code",
   "execution_count": 39,
   "metadata": {},
   "outputs": [],
   "source": [
    "writer = pd.ExcelWriter(filename + '.xlsx')\n",
    "df1.to_excel(writer,'Count')\n",
    "df2.to_excel(writer,'Qty')\n",
    "df3.to_excel(writer,'Consumption')\n",
    "df4.to_excel(writer,'Incoming')\n",
    "df5.to_excel(writer,'krConsumption')\n",
    "df6.to_excel(writer,'customer')\n",
    "writer.save()"
   ]
  },
  {
   "cell_type": "code",
   "execution_count": null,
   "metadata": {},
   "outputs": [],
   "source": []
  },
  {
   "cell_type": "code",
   "execution_count": null,
   "metadata": {},
   "outputs": [],
   "source": []
  }
 ],
 "metadata": {
  "kernelspec": {
   "display_name": "Python 3",
   "language": "python",
   "name": "python3"
  },
  "language_info": {
   "codemirror_mode": {
    "name": "ipython",
    "version": 3
   },
   "file_extension": ".py",
   "mimetype": "text/x-python",
   "name": "python",
   "nbconvert_exporter": "python",
   "pygments_lexer": "ipython3",
   "version": "3.6.4"
  }
 },
 "nbformat": 4,
 "nbformat_minor": 2
}
